{
  "metadata": {
    "kernelspec": {
      "name": "python",
      "display_name": "Python (Pyodide)",
      "language": "python"
    },
    "language_info": {
      "codemirror_mode": {
        "name": "python",
        "version": 3
      },
      "file_extension": ".py",
      "mimetype": "text/x-python",
      "name": "python",
      "nbconvert_exporter": "python",
      "pygments_lexer": "ipython3",
      "version": "3.8"
    }
  },
  "nbformat_minor": 5,
  "nbformat": 4,
  "cells": [
    {
      "id": "23bf0d68-cd40-4803-bf04-7ede3e53b524",
      "cell_type": "markdown",
      "source": "<center><span style=\"font-size: 24px;font-weight: bold\">Stable Diffusion WebUI</span></center>",
      "metadata": {}
    },
    {
      "id": "ac5a35de-ce70-4c71-9aa5-868740f5aa24",
      "cell_type": "code",
      "source": "# environment\n\nimport subprocess\ndef run_command(command, message):\n    print(f\"Please wait, {message} is loading...\")\n    subprocess.run(command, shell=True, stdout=subprocess.DEVNULL, stderr=subprocess.DEVNULL)\n    print(f\"{message} completed!\")\nrun_command('conda install -y conda', 'Conda')\nrun_command('conda update -y -n base conda', 'Update')\nrun_command('conda install -y -n base python=3.10', 'Python')\nrun_command('conda install -y -q glib', 'glib')\nprint(\"Congratulations! Python version now is:\")\n!python --version",
      "metadata": {
        "scrolled": true,
        "trusted": true
      },
      "outputs": [],
      "execution_count": null
    },
    {
      "id": "51ff11ee-1555-4fba-8cb9-a614544cec29",
      "cell_type": "code",
      "source": "# get webui\n\n%cd ~\n!git clone https://github.com/AUTOMATIC1111/stable-diffusion-webui.git",
      "metadata": {
        "trusted": true,
        "scrolled": true
      },
      "outputs": [],
      "execution_count": null
    },
    {
      "id": "9ea3ea45-056c-4863-a06a-3f7422bf7e20",
      "cell_type": "code",
      "source": "# launch webui\n\n%cd ~/stable-diffusion-webui\n!git pull\n!python launch.py --ngrok ENTER_NGROK_TOKEN_HERE --api --listen --xformers --no-half-vae --enable-insecure-extension-access --gradio-queue --theme dark",
      "metadata": {
        "scrolled": true,
        "tags": [],
        "trusted": true
      },
      "outputs": [],
      "execution_count": null
    },
    {
      "id": "beca6cb2-2b51-4258-bd4d-81b74a45b100",
      "cell_type": "code",
      "source": "# storage\n\n!rm -rf ~/.cache/*\n!rm -rf ~/stable-diffusion-webui/output/*\n\n!df -h | grep -E 'Avail|home'\n!du -h --max-depth=1 ~",
      "metadata": {
        "trusted": true,
        "scrolled": true
      },
      "outputs": [],
      "execution_count": null
    }
  ]
}

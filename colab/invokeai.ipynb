{
  "nbformat": 4,
  "nbformat_minor": 0,
  "metadata": {
    "colab": {
      "provenance": [],
      "gpuType": "T4",
      "include_colab_link": true
    },
    "kernelspec": {
      "name": "python3",
      "display_name": "Python 3"
    },
    "language_info": {
      "name": "python"
    },
    "accelerator": "GPU"
  },
  "cells": [
    {
      "cell_type": "markdown",
      "metadata": {
        "id": "view-in-github",
        "colab_type": "text"
      },
      "source": [
        "<a href=\"https://colab.research.google.com/github/gh-aam/jupyter-notebooks/blob/main/colab/invokeai.ipynb\" target=\"_parent\"><img src=\"https://colab.research.google.com/assets/colab-badge.svg\" alt=\"Open In Colab\"/></a>"
      ]
    },
    {
      "cell_type": "markdown",
      "source": [
        "# InvokeAI"
      ],
      "metadata": {
        "id": "YGpBoJi263Na"
      }
    },
    {
      "cell_type": "code",
      "execution_count": null,
      "metadata": {
        "id": "ov5p_WDpdKzP",
        "cellView": "form"
      },
      "outputs": [],
      "source": [
        "#@title Setup\n",
        "\n",
        "!mkdir -p /content/invokeai\n",
        "\n",
        "!sudo apt update && apt install python3.10-venv\n",
        "!python -m venv .venv --prompt InvokeAI\n",
        "!source .venv/bin/activate\n",
        "\n",
        "!sudo apt install -y libglib2.0-0 libgl1-mesa-glx\n",
        "\n",
        "!sudo apt install -y build-essential\n",
        "!sudo apt install -y python3-opencv libopencv-dev\n",
        "!pip install pypatchmatch\n",
        "\n",
        "!pip install \"InvokeAI[xformers]\" --use-pep517 --extra-index-url https://download.pytorch.org/whl/cu121\n",
        "\n",
        "!pip install pyngrok"
      ]
    },
    {
      "cell_type": "code",
      "source": [
        "#@title Launch\n",
        "\n",
        "from pyngrok import ngrok, conf\n",
        "\n",
        "ngrok_token = \"2fDzN8PxWKiaWj9WLShNXi4UmIk_86h5HxAr2nrP4tBJLrNhG\"\n",
        "print(ngrok.connect(9090, pyngrok_config=conf.PyngrokConfig(auth_token=ngrok_token), bind_tls=True).public_url)\n",
        "\n",
        "!invokeai-web --root /content/invokeai"
      ],
      "metadata": {
        "cellView": "form",
        "id": "3yrHSqmd-CD0"
      },
      "execution_count": null,
      "outputs": []
    }
  ]
}